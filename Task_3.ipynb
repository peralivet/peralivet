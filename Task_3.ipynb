{
  "nbformat": 4,
  "nbformat_minor": 0,
  "metadata": {
    "colab": {
      "provenance": [],
      "gpuType": "T4",
      "authorship_tag": "ABX9TyPbiApQ9jQSMlf59twSWGuT",
      "include_colab_link": true
    },
    "kernelspec": {
      "name": "python3",
      "display_name": "Python 3"
    },
    "language_info": {
      "name": "python"
    },
    "accelerator": "GPU"
  },
  "cells": [
    {
      "cell_type": "markdown",
      "metadata": {
        "id": "view-in-github",
        "colab_type": "text"
      },
      "source": [
        "<a href=\"https://colab.research.google.com/github/peralivet/peralivet/blob/main/Task_3.ipynb\" target=\"_parent\"><img src=\"https://colab.research.google.com/assets/colab-badge.svg\" alt=\"Open In Colab\"/></a>"
      ]
    },
    {
      "cell_type": "markdown",
      "source": [
        "#**Machine Learning.**\n",
        "\n",
        "###**Clustering**"
      ],
      "metadata": {
        "id": "r60-Ir_z9XzC"
      }
    },
    {
      "cell_type": "markdown",
      "source": [
        "* **1. Installing UCI repo**  *(this is important to download the data)*"
      ],
      "metadata": {
        "id": "ldYrqyh32zDE"
      }
    },
    {
      "cell_type": "code",
      "source": [
        "#This installs the UCI repo library\n",
        "pip install ucimlrepo"
      ],
      "metadata": {
        "colab": {
          "base_uri": "https://localhost:8080/"
        },
        "id": "GzkO1wHq2-s7",
        "outputId": "6e7096bc-5b55-4770-d192-1a128e255332"
      },
      "execution_count": 2,
      "outputs": [
        {
          "output_type": "stream",
          "name": "stdout",
          "text": [
            "Collecting ucimlrepo\n",
            "  Downloading ucimlrepo-0.0.3-py3-none-any.whl (7.0 kB)\n",
            "Installing collected packages: ucimlrepo\n",
            "Successfully installed ucimlrepo-0.0.3\n"
          ]
        }
      ]
    },
    {
      "cell_type": "markdown",
      "source": [
        "* **2. Library import**"
      ],
      "metadata": {
        "id": "83HNe3Dd3c33"
      }
    },
    {
      "cell_type": "code",
      "execution_count": 3,
      "metadata": {
        "id": "MC95lOKU6R8M"
      },
      "outputs": [],
      "source": [
        "#Importing necessary libraries\n",
        "import pandas as pd\n",
        "from ucimlrepo import fetch_ucirepo\n",
        "\n"
      ]
    },
    {
      "cell_type": "markdown",
      "source": [
        "* **3. Fetching the Abalone Data from the UCI Repo**"
      ],
      "metadata": {
        "id": "hfoexL803baJ"
      }
    },
    {
      "cell_type": "code",
      "source": [
        "# fetch dataset from UCI repo\n",
        "abalone = fetch_ucirepo(id=1)\n",
        "\n",
        "# data (as pandas dataframes)\n",
        "X = abalone.data.features\n",
        "y = abalone.data.targets\n",
        "\n",
        "#Converting the downloaded data to a dataframe\n",
        "X_df = pd.DataFrame(X)\n",
        "y_df = pd.DataFrame(y)\n",
        "\n",
        "# Concatenate along the columns (axis=1)\n",
        "abalone_data = pd.concat([X_df, y_df], axis=1)"
      ],
      "metadata": {
        "id": "9MHbL4ry3zi6"
      },
      "execution_count": 4,
      "outputs": []
    },
    {
      "cell_type": "code",
      "source": [],
      "metadata": {
        "id": "5DyWvBaQ4eHO"
      },
      "execution_count": null,
      "outputs": []
    }
  ]
}