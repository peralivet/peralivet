{
  "nbformat": 4,
  "nbformat_minor": 0,
  "metadata": {
    "colab": {
      "provenance": [],
      "gpuType": "T4",
      "authorship_tag": "ABX9TyOFycmeoe7fBQfc4rW8Ogjc",
      "include_colab_link": true
    },
    "kernelspec": {
      "name": "python3",
      "display_name": "Python 3"
    },
    "language_info": {
      "name": "python"
    }
  },
  "cells": [
    {
      "cell_type": "markdown",
      "metadata": {
        "id": "view-in-github",
        "colab_type": "text"
      },
      "source": [
        "<a href=\"https://colab.research.google.com/github/peralivet/peralivet/blob/main/Task_3.ipynb\" target=\"_parent\"><img src=\"https://colab.research.google.com/assets/colab-badge.svg\" alt=\"Open In Colab\"/></a>"
      ]
    },
    {
      "cell_type": "markdown",
      "source": [
        "#**Machine Learning.**\n",
        "\n",
        "###**Clustering**"
      ],
      "metadata": {
        "id": "r60-Ir_z9XzC"
      }
    },
    {
      "cell_type": "markdown",
      "source": [
        "* **1. Installing UCI repo**  *(this is important to download the data)*"
      ],
      "metadata": {
        "id": "ldYrqyh32zDE"
      }
    },
    {
      "cell_type": "code",
      "source": [
        "#This installs the UCI repo library\n",
        "pip install ucimlrepo"
      ],
      "metadata": {
        "colab": {
          "base_uri": "https://localhost:8080/",
          "height": 140
        },
        "id": "GzkO1wHq2-s7",
        "outputId": "88f4bcfd-e27b-491f-f24e-1fb9b4d28b13"
      },
      "execution_count": 6,
      "outputs": [
        {
          "output_type": "error",
          "ename": "SyntaxError",
          "evalue": "ignored",
          "traceback": [
            "\u001b[0;36m  File \u001b[0;32m\"<ipython-input-6-b6b06d812e88>\"\u001b[0;36m, line \u001b[0;32m2\u001b[0m\n\u001b[0;31m    pip install ucimlrepo\u001b[0m\n\u001b[0m        ^\u001b[0m\n\u001b[0;31mSyntaxError\u001b[0m\u001b[0;31m:\u001b[0m invalid syntax\n"
          ]
        }
      ]
    },
    {
      "cell_type": "markdown",
      "source": [
        "* **2. Library import**"
      ],
      "metadata": {
        "id": "83HNe3Dd3c33"
      }
    },
    {
      "cell_type": "code",
      "execution_count": 5,
      "metadata": {
        "colab": {
          "base_uri": "https://localhost:8080/",
          "height": 361
        },
        "id": "MC95lOKU6R8M",
        "outputId": "0696f783-c67a-4e1b-e5bc-f59f43ab2d2a"
      },
      "outputs": [
        {
          "output_type": "error",
          "ename": "ModuleNotFoundError",
          "evalue": "ignored",
          "traceback": [
            "\u001b[0;31m---------------------------------------------------------------------------\u001b[0m",
            "\u001b[0;31mModuleNotFoundError\u001b[0m                       Traceback (most recent call last)",
            "\u001b[0;32m<ipython-input-5-bb695dad7ec9>\u001b[0m in \u001b[0;36m<cell line: 3>\u001b[0;34m()\u001b[0m\n\u001b[1;32m      1\u001b[0m \u001b[0;31m#Importing necessary libraries\u001b[0m\u001b[0;34m\u001b[0m\u001b[0;34m\u001b[0m\u001b[0m\n\u001b[1;32m      2\u001b[0m \u001b[0;32mimport\u001b[0m \u001b[0mpandas\u001b[0m \u001b[0;32mas\u001b[0m \u001b[0mpd\u001b[0m\u001b[0;34m\u001b[0m\u001b[0;34m\u001b[0m\u001b[0m\n\u001b[0;32m----> 3\u001b[0;31m \u001b[0;32mfrom\u001b[0m \u001b[0mucimlrepo\u001b[0m \u001b[0;32mimport\u001b[0m \u001b[0mfetch_ucirepo\u001b[0m\u001b[0;34m\u001b[0m\u001b[0;34m\u001b[0m\u001b[0m\n\u001b[0m\u001b[1;32m      4\u001b[0m \u001b[0;34m\u001b[0m\u001b[0m\n",
            "\u001b[0;31mModuleNotFoundError\u001b[0m: No module named 'ucimlrepo'",
            "",
            "\u001b[0;31m---------------------------------------------------------------------------\u001b[0;32m\nNOTE: If your import is failing due to a missing package, you can\nmanually install dependencies using either !pip or !apt.\n\nTo view examples of installing some common dependencies, click the\n\"Open Examples\" button below.\n\u001b[0;31m---------------------------------------------------------------------------\u001b[0m\n"
          ],
          "errorDetails": {
            "actions": [
              {
                "action": "open_url",
                "actionText": "Open Examples",
                "url": "/notebooks/snippets/importing_libraries.ipynb"
              }
            ]
          }
        }
      ],
      "source": [
        "#Importing necessary libraries\n",
        "import pandas as pd\n",
        "from ucimlrepo import fetch_ucirepo\n",
        "\n"
      ]
    },
    {
      "cell_type": "markdown",
      "source": [
        "* **3. Fetching the Abalone Data from the UCI Repo**"
      ],
      "metadata": {
        "id": "hfoexL803baJ"
      }
    },
    {
      "cell_type": "code",
      "source": [
        "# fetch dataset from UCI repo\n",
        "abalone = fetch_ucirepo(id=1)\n",
        "\n",
        "# data (as pandas dataframes)\n",
        "X = abalone.data.features\n",
        "y = abalone.data.targets\n",
        "\n",
        "#Converting the downloaded data to a dataframe\n",
        "X_df = pd.DataFrame(X)\n",
        "y_df = pd.DataFrame(y)\n",
        "\n",
        "# Concatenate along the columns (axis=1)\n",
        "abalone_data = pd.concat([X_df, y_df], axis=1)"
      ],
      "metadata": {
        "id": "9MHbL4ry3zi6"
      },
      "execution_count": null,
      "outputs": []
    },
    {
      "cell_type": "markdown",
      "source": [
        "* **3b. Checking the first 4 rows(head()) and the last 4 rows(tail())**"
      ],
      "metadata": {
        "id": "iIKPMcyl5tMb"
      }
    },
    {
      "cell_type": "code",
      "source": [
        "abalone_data.head()"
      ],
      "metadata": {
        "id": "55K7dptD5qL5"
      },
      "execution_count": null,
      "outputs": []
    },
    {
      "cell_type": "code",
      "source": [
        "abalone_data.tail()"
      ],
      "metadata": {
        "id": "8FzlxDV45uqw"
      },
      "execution_count": null,
      "outputs": []
    },
    {
      "cell_type": "markdown",
      "source": [
        "* **4. Dataset Overview**\n",
        "\n",
        "\n"
      ],
      "metadata": {
        "id": "2bNioWgt8Eyy"
      }
    },
    {
      "cell_type": "markdown",
      "source": [
        "* **4a. Dataset info**\n"
      ],
      "metadata": {
        "id": "vItOCp9k8OeD"
      }
    },
    {
      "cell_type": "code",
      "source": [
        "abalone_data.info()\n"
      ],
      "metadata": {
        "id": "ycLmpmXc8XRC"
      },
      "execution_count": null,
      "outputs": []
    },
    {
      "cell_type": "code",
      "source": [],
      "metadata": {
        "id": "2YSWzkk78cLr"
      },
      "execution_count": null,
      "outputs": []
    }
  ]
}